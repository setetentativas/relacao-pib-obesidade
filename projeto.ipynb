{
 "cells": [
  {
   "cell_type": "code",
   "execution_count": null,
   "metadata": {
    "vscode": {
     "languageId": "plaintext"
    }
   },
   "outputs": [],
   "source": [
    "import pandas as pd\n",
    "import matplotlib.pyplot as plt\n",
    "import plotly.express as px\n",
    "from sklearn.model_selection import train_test_split\n",
    "from sklearn.linear_model import LinearRegression\n",
    "from sklearn.metrics import mean_squared_error, r2_score\n",
    "\n",
    "df_obesity = pd.read_csv(\"/workspaces/relacao-pib-obesidade/obesity_cleaned.csv\", decimal=\".\")\n",
    "df_gdp = pd.read_csv(\"/workspaces/relacao-pib-obesidade/gdp.csv\", decimal=\".\", delimiter=\",\", thousands=\",\")\n",
    "\n",
    "# Limpeza dos dados\n",
    "df_obesity['Year'] = pd.to_datetime(df_obesity['Year'], format='%Y').dt.year\n",
    "df_gdp['Year'] = pd.to_datetime(df_gdp['Year'], format='%d/%m/%Y', errors='coerce').dt.year # Necessário que esse tratamento seja aqui por questão da ordem dos fatos\n",
    "df_gdp.columns = df_gdp.columns.str.strip()\n",
    "df = pd.merge(df_obesity, df_gdp, on=['Country', 'Year'])\n",
    "df['GDP_pp'] = df['GDP_pp'].astype(str).str.replace(',', '').str.replace(' ', '').astype(float)\n",
    "df['Obesity (%)'] = df['Obesity (%)'].str.extract(r'(\\d+\\.\\d+)').astype(float)\n",
    "df.drop(columns=['Unnamed: 0', 'Region'], inplace=True)\n",
    "countries_to_include = [\"United States\", \"Brazil\", \"Russia\", \"Germany\", \"United Kingdom\", \"France\", \"China\"]\n",
    "df = df[df['Country'].isin(countries_to_include)]\n",
    "df = df.groupby(['Year', 'Country'])[['GDP_pp', 'Obesity (%)']].mean().reset_index()\n",
    "df.dropna(subset=['Country', 'Year', 'Obesity (%)', 'GDP_pp'], inplace=True)\n",
    "\n",
    "# Ensure df is not empty\n",
    "if df.empty:\n",
    "    raise ValueError(\"The dataframe 'df' is empty after processing. Please check the data and processing steps.\")\n",
    "\n",
    "# Análise dos dados com ML\n",
    "X = df[['GDP_pp']]\n",
    "y = df['Obesity (%)']\n",
    "\n",
    "X_train, X_test, y_train, y_test = train_test_split(X, y, test_size=0.2, random_state=42)\n",
    "\n",
    "model = LinearRegression()\n",
    "model.fit(X_train, y_train)\n",
    "\n",
    "y_pred = model.predict(X_test)\n",
    "\n",
    "mse = mean_squared_error(y_test, y_pred)\n",
    "r2 = r2_score(y_test, y_pred)\n",
    "\n",
    "print(f\"Mean Squared Error: {mse}\")\n",
    "print(f\"R-squared: {r2}\")\n",
    "\n",
    "\n",
    "# Visualização dos dados\n",
    "fig = px.scatter(df, x='GDP_pp', y='Obesity (%)', animation_frame='Year', animation_group='Country',\n",
    "                 size='Obesity (%)', color='Country', hover_name='Country',\n",
    "                 log_x=True, size_max=55, range_x=[df['GDP_pp'].min(), df['GDP_pp'].max()],\n",
    "                 range_y=[df['Obesity (%)'].min(), df['Obesity (%)'].max()],\n",
    "                 title='Relação entre PIB per Capita e Obesidade ao Longo dos Anos')\n",
    "\n",
    "fig.update_layout(xaxis_title='PIB per Capita', yaxis_title='Obesidade (%)')\n",
    "fig.show()"
   ]
  }
 ],
 "metadata": {
  "language_info": {
   "name": "python"
  }
 },
 "nbformat": 4,
 "nbformat_minor": 2
}
